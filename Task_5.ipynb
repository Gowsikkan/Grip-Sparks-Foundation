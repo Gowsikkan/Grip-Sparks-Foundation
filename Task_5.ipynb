{
  "nbformat": 4,
  "nbformat_minor": 0,
  "metadata": {
    "colab": {
      "name": "Task-5.ipynb",
      "provenance": [],
      "collapsed_sections": []
    },
    "kernelspec": {
      "name": "python3",
      "display_name": "Python 3"
    }
  },
  "cells": [
    {
      "cell_type": "markdown",
      "metadata": {
        "id": "zS9CjkLN3Bwv"
      },
      "source": [
        "**Task-5**"
      ]
    },
    {
      "cell_type": "markdown",
      "metadata": {
        "id": "ZphcJ5VT3BtU"
      },
      "source": [
        "**Decision Tree Classifier for Iris Dataset**"
      ]
    },
    {
      "cell_type": "markdown",
      "metadata": {
        "id": "DnEmaTi63BrE"
      },
      "source": [
        "**Author-Gowsikkan**"
      ]
    },
    {
      "cell_type": "markdown",
      "metadata": {
        "id": "yKhzbU827thW"
      },
      "source": [
        " **Grip**@**TheSparksFoundation**"
      ]
    },
    {
      "cell_type": "markdown",
      "metadata": {
        "id": "PRsGp9v37wvL"
      },
      "source": [
        "**Importing Libraries**"
      ]
    },
    {
      "cell_type": "code",
      "metadata": {
        "id": "Iwtrs7ajmGBv"
      },
      "source": [
        "import pandas as pd \r\n",
        "import numpy as np\r\n",
        "import matplotlib.pyplot as plt\r\n",
        "import seaborn as sns "
      ],
      "execution_count": null,
      "outputs": []
    },
    {
      "cell_type": "code",
      "metadata": {
        "id": "aoiWMVzumlL8"
      },
      "source": [
        "from sklearn.datasets import load_iris\r\n",
        "iris = load_iris()"
      ],
      "execution_count": null,
      "outputs": []
    },
    {
      "cell_type": "markdown",
      "metadata": {
        "id": "GnCrT6rYBfF0"
      },
      "source": [
        "**Dataframe**"
      ]
    },
    {
      "cell_type": "code",
      "metadata": {
        "colab": {
          "base_uri": "https://localhost:8080/",
          "height": 204
        },
        "id": "ADNmigHOnAFv",
        "outputId": "8d6220be-1ad9-4811-ce74-0167625985fa"
      },
      "source": [
        "df =pd.DataFrame(iris.data,columns= iris.feature_names)\r\n",
        "df['target'] = iris.target\r\n",
        "df.head()"
      ],
      "execution_count": null,
      "outputs": [
        {
          "output_type": "execute_result",
          "data": {
            "text/html": [
              "<div>\n",
              "<style scoped>\n",
              "    .dataframe tbody tr th:only-of-type {\n",
              "        vertical-align: middle;\n",
              "    }\n",
              "\n",
              "    .dataframe tbody tr th {\n",
              "        vertical-align: top;\n",
              "    }\n",
              "\n",
              "    .dataframe thead th {\n",
              "        text-align: right;\n",
              "    }\n",
              "</style>\n",
              "<table border=\"1\" class=\"dataframe\">\n",
              "  <thead>\n",
              "    <tr style=\"text-align: right;\">\n",
              "      <th></th>\n",
              "      <th>sepal length (cm)</th>\n",
              "      <th>sepal width (cm)</th>\n",
              "      <th>petal length (cm)</th>\n",
              "      <th>petal width (cm)</th>\n",
              "      <th>target</th>\n",
              "    </tr>\n",
              "  </thead>\n",
              "  <tbody>\n",
              "    <tr>\n",
              "      <th>0</th>\n",
              "      <td>5.1</td>\n",
              "      <td>3.5</td>\n",
              "      <td>1.4</td>\n",
              "      <td>0.2</td>\n",
              "      <td>0</td>\n",
              "    </tr>\n",
              "    <tr>\n",
              "      <th>1</th>\n",
              "      <td>4.9</td>\n",
              "      <td>3.0</td>\n",
              "      <td>1.4</td>\n",
              "      <td>0.2</td>\n",
              "      <td>0</td>\n",
              "    </tr>\n",
              "    <tr>\n",
              "      <th>2</th>\n",
              "      <td>4.7</td>\n",
              "      <td>3.2</td>\n",
              "      <td>1.3</td>\n",
              "      <td>0.2</td>\n",
              "      <td>0</td>\n",
              "    </tr>\n",
              "    <tr>\n",
              "      <th>3</th>\n",
              "      <td>4.6</td>\n",
              "      <td>3.1</td>\n",
              "      <td>1.5</td>\n",
              "      <td>0.2</td>\n",
              "      <td>0</td>\n",
              "    </tr>\n",
              "    <tr>\n",
              "      <th>4</th>\n",
              "      <td>5.0</td>\n",
              "      <td>3.6</td>\n",
              "      <td>1.4</td>\n",
              "      <td>0.2</td>\n",
              "      <td>0</td>\n",
              "    </tr>\n",
              "  </tbody>\n",
              "</table>\n",
              "</div>"
            ],
            "text/plain": [
              "   sepal length (cm)  sepal width (cm)  ...  petal width (cm)  target\n",
              "0                5.1               3.5  ...               0.2       0\n",
              "1                4.9               3.0  ...               0.2       0\n",
              "2                4.7               3.2  ...               0.2       0\n",
              "3                4.6               3.1  ...               0.2       0\n",
              "4                5.0               3.6  ...               0.2       0\n",
              "\n",
              "[5 rows x 5 columns]"
            ]
          },
          "metadata": {
            "tags": []
          },
          "execution_count": 30
        }
      ]
    },
    {
      "cell_type": "code",
      "metadata": {
        "id": "mNBm5TE5qpLW"
      },
      "source": [
        "X= df.drop(['target'],axis='columns')\r\n",
        "Y=df['target']"
      ],
      "execution_count": null,
      "outputs": []
    },
    {
      "cell_type": "markdown",
      "metadata": {
        "id": "yb3hvDBmBl_Q"
      },
      "source": [
        "**Train Test Split**"
      ]
    },
    {
      "cell_type": "code",
      "metadata": {
        "id": "ILnkLBl1nAK6"
      },
      "source": [
        "from sklearn.model_selection import train_test_split\r\n",
        "X_train,X_test,Y_train,Y_test = train_test_split(X,Y,test_size=0.3)"
      ],
      "execution_count": null,
      "outputs": []
    },
    {
      "cell_type": "markdown",
      "metadata": {
        "id": "lAqnnfWEB77N"
      },
      "source": [
        "**Decision Tree**"
      ]
    },
    {
      "cell_type": "code",
      "metadata": {
        "id": "nhK96di4nAMe"
      },
      "source": [
        "from sklearn.tree import DecisionTreeClassifier\r\n",
        "model = DecisionTreeClassifier()"
      ],
      "execution_count": null,
      "outputs": []
    },
    {
      "cell_type": "code",
      "metadata": {
        "colab": {
          "base_uri": "https://localhost:8080/"
        },
        "id": "TJoh1BilnAQT",
        "outputId": "3ee60178-92c9-43f1-b5a6-289584576ad4"
      },
      "source": [
        "model.fit(X_train,Y_train)"
      ],
      "execution_count": null,
      "outputs": [
        {
          "output_type": "execute_result",
          "data": {
            "text/plain": [
              "DecisionTreeClassifier(ccp_alpha=0.0, class_weight=None, criterion='gini',\n",
              "                       max_depth=None, max_features=None, max_leaf_nodes=None,\n",
              "                       min_impurity_decrease=0.0, min_impurity_split=None,\n",
              "                       min_samples_leaf=1, min_samples_split=2,\n",
              "                       min_weight_fraction_leaf=0.0, presort='deprecated',\n",
              "                       random_state=None, splitter='best')"
            ]
          },
          "metadata": {
            "tags": []
          },
          "execution_count": 39
        }
      ]
    },
    {
      "cell_type": "markdown",
      "metadata": {
        "id": "I6rgFFhoBzjX"
      },
      "source": [
        "**Model score**"
      ]
    },
    {
      "cell_type": "code",
      "metadata": {
        "colab": {
          "base_uri": "https://localhost:8080/"
        },
        "id": "wSYH6mXauWIo",
        "outputId": "418ac9c2-5edb-463a-c35c-3bb7a927ed70"
      },
      "source": [
        "model.score(X_test,Y_test)"
      ],
      "execution_count": null,
      "outputs": [
        {
          "output_type": "execute_result",
          "data": {
            "text/plain": [
              "0.9555555555555556"
            ]
          },
          "metadata": {
            "tags": []
          },
          "execution_count": 40
        }
      ]
    },
    {
      "cell_type": "markdown",
      "metadata": {
        "id": "DX7dfapfB3a0"
      },
      "source": [
        "**Visualization**"
      ]
    },
    {
      "cell_type": "code",
      "metadata": {
        "colab": {
          "base_uri": "https://localhost:8080/"
        },
        "id": "rCum0AAP3htk",
        "outputId": "757a4d16-3bce-43bb-d042-a9b8e850c862"
      },
      "source": [
        "t = tree.export_text(model)\r\n",
        "print(t)"
      ],
      "execution_count": null,
      "outputs": [
        {
          "output_type": "stream",
          "text": [
            "|--- feature_2 <= 2.45\n",
            "|   |--- class: 0\n",
            "|--- feature_2 >  2.45\n",
            "|   |--- feature_2 <= 5.05\n",
            "|   |   |--- feature_3 <= 1.65\n",
            "|   |   |   |--- class: 1\n",
            "|   |   |--- feature_3 >  1.65\n",
            "|   |   |   |--- feature_0 <= 6.50\n",
            "|   |   |   |   |--- feature_1 <= 3.10\n",
            "|   |   |   |   |   |--- class: 2\n",
            "|   |   |   |   |--- feature_1 >  3.10\n",
            "|   |   |   |   |   |--- class: 1\n",
            "|   |   |   |--- feature_0 >  6.50\n",
            "|   |   |   |   |--- class: 1\n",
            "|   |--- feature_2 >  5.05\n",
            "|   |   |--- class: 2\n",
            "\n"
          ],
          "name": "stdout"
        }
      ]
    },
    {
      "cell_type": "code",
      "metadata": {
        "colab": {
          "base_uri": "https://localhost:8080/",
          "height": 435
        },
        "id": "3jhKhGAt231I",
        "outputId": "c5b93803-eb10-47ad-c9bd-98cd4820fe56"
      },
      "source": [
        "tree.plot_tree(model)"
      ],
      "execution_count": null,
      "outputs": [
        {
          "output_type": "execute_result",
          "data": {
            "text/plain": [
              "[Text(133.92000000000002, 199.32, 'X[2] <= 2.45\\ngini = 0.663\\nsamples = 105\\nvalue = [40, 31, 34]'),\n",
              " Text(66.96000000000001, 163.07999999999998, 'gini = 0.0\\nsamples = 40\\nvalue = [40, 0, 0]'),\n",
              " Text(200.88000000000002, 163.07999999999998, 'X[2] <= 5.05\\ngini = 0.499\\nsamples = 65\\nvalue = [0, 31, 34]'),\n",
              " Text(133.92000000000002, 126.83999999999999, 'X[3] <= 1.65\\ngini = 0.239\\nsamples = 36\\nvalue = [0, 31, 5]'),\n",
              " Text(66.96000000000001, 90.6, 'gini = 0.0\\nsamples = 29\\nvalue = [0, 29, 0]'),\n",
              " Text(200.88000000000002, 90.6, 'X[0] <= 6.5\\ngini = 0.408\\nsamples = 7\\nvalue = [0, 2, 5]'),\n",
              " Text(133.92000000000002, 54.359999999999985, 'X[1] <= 3.1\\ngini = 0.278\\nsamples = 6\\nvalue = [0, 1, 5]'),\n",
              " Text(66.96000000000001, 18.119999999999976, 'gini = 0.0\\nsamples = 5\\nvalue = [0, 0, 5]'),\n",
              " Text(200.88000000000002, 18.119999999999976, 'gini = 0.0\\nsamples = 1\\nvalue = [0, 1, 0]'),\n",
              " Text(267.84000000000003, 54.359999999999985, 'gini = 0.0\\nsamples = 1\\nvalue = [0, 1, 0]'),\n",
              " Text(267.84000000000003, 126.83999999999999, 'gini = 0.0\\nsamples = 29\\nvalue = [0, 0, 29]')]"
            ]
          },
          "metadata": {
            "tags": []
          },
          "execution_count": 49
        },
        {
          "output_type": "display_data",
          "data": {
            "image/png": "[encoded data removed]",
            "text/plain": [
              "<Figure size 432x288 with 1 Axes>"
            ]
          },
          "metadata": {
            "tags": [],
            "needs_background": "light"
          }
        }
      ]
    },
    {
      "cell_type": "code",
      "metadata": {
        "colab": {
          "base_uri": "https://localhost:8080/",
          "height": 916
        },
        "id": "P_rPD8gRuWLk",
        "outputId": "5b82c01a-5bfc-45f1-81e3-6f96890223b4"
      },
      "source": [
        "import graphviz\r\n",
        "g = tree.export_graphviz(model,out_file=None,feature_names=iris.feature_names,class_names=iris.target_names,filled=True,rounded=True,special_characters=True)\r\n",
        "graph = graphviz.Source(g)\r\n",
        "graph"
      ],
      "execution_count": null,
      "outputs": [
        {
          "output_type": "execute_result",
          "data": {
            "text/plain": [
              "<graphviz.files.Source at 0x7fc5fc9c4cf8>"
            ],
            "image/svg+xml": "<?xml version=\"1.0\" encoding=\"UTF-8\" standalone=\"no\"?>\n<!DOCTYPE svg PUBLIC \"-//W3C//DTD SVG 1.1//EN\"\n \"http://www.w3.org/Graphics/SVG/1.1/DTD/svg11.dtd\">\n<!-- Generated by graphviz version 2.40.1 (20161225.0304)\n -->\n<!-- Title: Tree Pages: 1 -->\n<svg width=\"380pt\" height=\"671pt\"\n viewBox=\"0.00 0.00 380.00 671.00\" xmlns=\"http://www.w3.org/2000/svg\" xmlns:xlink=\"http://www.w3.org/1999/xlink\">\n<g id=\"graph0\" class=\"graph\" transform=\"scale(1 1) rotate(0) translate(4 667)\">\n<title>Tree</title>\n<polygon fill=\"#ffffff\" stroke=\"transparent\" points=\"-4,4 -4,-667 376,-667 376,4 -4,4\"/>\n<!-- 0 -->\n<g id=\"node1\" class=\"node\">\n<title>0</title>\n<path fill=\"#fdf4ee\" stroke=\"#000000\" d=\"M215.5,-663C215.5,-663 72.5,-663 72.5,-663 66.5,-663 60.5,-657 60.5,-651 60.5,-651 60.5,-592 60.5,-592 60.5,-586 66.5,-580 72.5,-580 72.5,-580 215.5,-580 215.5,-580 221.5,-580 227.5,-586 227.5,-592 227.5,-592 227.5,-651 227.5,-651 227.5,-657 221.5,-663 215.5,-663\"/>\n<text text-anchor=\"start\" x=\"68.5\" y=\"-647.8\" font-family=\"Helvetica,sans-Serif\" font-size=\"14.00\" fill=\"#000000\">petal length (cm) ≤ 2.45</text>\n<text text-anchor=\"start\" x=\"106\" y=\"-632.8\" font-family=\"Helvetica,sans-Serif\" font-size=\"14.00\" fill=\"#000000\">gini = 0.663</text>\n<text text-anchor=\"start\" x=\"96\" y=\"-617.8\" font-family=\"Helvetica,sans-Serif\" font-size=\"14.00\" fill=\"#000000\">samples = 105</text>\n<text text-anchor=\"start\" x=\"82\" y=\"-602.8\" font-family=\"Helvetica,sans-Serif\" font-size=\"14.00\" fill=\"#000000\">value = [40, 31, 34]</text>\n<text text-anchor=\"start\" x=\"97\" y=\"-587.8\" font-family=\"Helvetica,sans-Serif\" font-size=\"14.00\" fill=\"#000000\">class = setosa</text>\n</g>\n<!-- 1 -->\n<g id=\"node2\" class=\"node\">\n<title>1</title>\n<path fill=\"#e58139\" stroke=\"#000000\" d=\"M112.5,-536.5C112.5,-536.5 13.5,-536.5 13.5,-536.5 7.5,-536.5 1.5,-530.5 1.5,-524.5 1.5,-524.5 1.5,-480.5 1.5,-480.5 1.5,-474.5 7.5,-468.5 13.5,-468.5 13.5,-468.5 112.5,-468.5 112.5,-468.5 118.5,-468.5 124.5,-474.5 124.5,-480.5 124.5,-480.5 124.5,-524.5 124.5,-524.5 124.5,-530.5 118.5,-536.5 112.5,-536.5\"/>\n<text text-anchor=\"start\" x=\"33.5\" y=\"-521.3\" font-family=\"Helvetica,sans-Serif\" font-size=\"14.00\" fill=\"#000000\">gini = 0.0</text>\n<text text-anchor=\"start\" x=\"19\" y=\"-506.3\" font-family=\"Helvetica,sans-Serif\" font-size=\"14.00\" fill=\"#000000\">samples = 40</text>\n<text text-anchor=\"start\" x=\"9.5\" y=\"-491.3\" font-family=\"Helvetica,sans-Serif\" font-size=\"14.00\" fill=\"#000000\">value = [40, 0, 0]</text>\n<text text-anchor=\"start\" x=\"16\" y=\"-476.3\" font-family=\"Helvetica,sans-Serif\" font-size=\"14.00\" fill=\"#000000\">class = setosa</text>\n</g>\n<!-- 0&#45;&gt;1 -->\n<g id=\"edge1\" class=\"edge\">\n<title>0&#45;&gt;1</title>\n<path fill=\"none\" stroke=\"#000000\" d=\"M115.6701,-579.8796C108.0357,-568.6636 99.7652,-556.5131 92.0901,-545.2372\"/>\n<polygon fill=\"#000000\" stroke=\"#000000\" points=\"94.8775,-543.1122 86.3572,-536.8149 89.0908,-547.0511 94.8775,-543.1122\"/>\n<text text-anchor=\"middle\" x=\"81.6907\" y=\"-557.6755\" font-family=\"Helvetica,sans-Serif\" font-size=\"14.00\" fill=\"#000000\">True</text>\n</g>\n<!-- 2 -->\n<g id=\"node3\" class=\"node\">\n<title>2</title>\n<path fill=\"#f4eefd\" stroke=\"#000000\" d=\"M297.5,-544C297.5,-544 154.5,-544 154.5,-544 148.5,-544 142.5,-538 142.5,-532 142.5,-532 142.5,-473 142.5,-473 142.5,-467 148.5,-461 154.5,-461 154.5,-461 297.5,-461 297.5,-461 303.5,-461 309.5,-467 309.5,-473 309.5,-473 309.5,-532 309.5,-532 309.5,-538 303.5,-544 297.5,-544\"/>\n<text text-anchor=\"start\" x=\"150.5\" y=\"-528.8\" font-family=\"Helvetica,sans-Serif\" font-size=\"14.00\" fill=\"#000000\">petal length (cm) ≤ 5.05</text>\n<text text-anchor=\"start\" x=\"188\" y=\"-513.8\" font-family=\"Helvetica,sans-Serif\" font-size=\"14.00\" fill=\"#000000\">gini = 0.499</text>\n<text text-anchor=\"start\" x=\"182\" y=\"-498.8\" font-family=\"Helvetica,sans-Serif\" font-size=\"14.00\" fill=\"#000000\">samples = 65</text>\n<text text-anchor=\"start\" x=\"168.5\" y=\"-483.8\" font-family=\"Helvetica,sans-Serif\" font-size=\"14.00\" fill=\"#000000\">value = [0, 31, 34]</text>\n<text text-anchor=\"start\" x=\"174.5\" y=\"-468.8\" font-family=\"Helvetica,sans-Serif\" font-size=\"14.00\" fill=\"#000000\">class = virginica</text>\n</g>\n<!-- 0&#45;&gt;2 -->\n<g id=\"edge2\" class=\"edge\">\n<title>0&#45;&gt;2</title>\n<path fill=\"none\" stroke=\"#000000\" d=\"M172.6796,-579.8796C178.7615,-571.0534 185.2422,-561.6485 191.5141,-552.5466\"/>\n<polygon fill=\"#000000\" stroke=\"#000000\" points=\"194.4059,-554.5184 197.198,-544.2981 188.6418,-550.5465 194.4059,-554.5184\"/>\n<text text-anchor=\"middle\" x=\"201.7239\" y=\"-565.185\" font-family=\"Helvetica,sans-Serif\" font-size=\"14.00\" fill=\"#000000\">False</text>\n</g>\n<!-- 3 -->\n<g id=\"node4\" class=\"node\">\n<title>3</title>\n<path fill=\"#59e995\" stroke=\"#000000\" d=\"M214.5,-425C214.5,-425 77.5,-425 77.5,-425 71.5,-425 65.5,-419 65.5,-413 65.5,-413 65.5,-354 65.5,-354 65.5,-348 71.5,-342 77.5,-342 77.5,-342 214.5,-342 214.5,-342 220.5,-342 226.5,-348 226.5,-354 226.5,-354 226.5,-413 226.5,-413 226.5,-419 220.5,-425 214.5,-425\"/>\n<text text-anchor=\"start\" x=\"73.5\" y=\"-409.8\" font-family=\"Helvetica,sans-Serif\" font-size=\"14.00\" fill=\"#000000\">petal width (cm) ≤ 1.65</text>\n<text text-anchor=\"start\" x=\"108\" y=\"-394.8\" font-family=\"Helvetica,sans-Serif\" font-size=\"14.00\" fill=\"#000000\">gini = 0.239</text>\n<text text-anchor=\"start\" x=\"102\" y=\"-379.8\" font-family=\"Helvetica,sans-Serif\" font-size=\"14.00\" fill=\"#000000\">samples = 36</text>\n<text text-anchor=\"start\" x=\"92.5\" y=\"-364.8\" font-family=\"Helvetica,sans-Serif\" font-size=\"14.00\" fill=\"#000000\">value = [0, 31, 5]</text>\n<text text-anchor=\"start\" x=\"90\" y=\"-349.8\" font-family=\"Helvetica,sans-Serif\" font-size=\"14.00\" fill=\"#000000\">class = versicolor</text>\n</g>\n<!-- 2&#45;&gt;3 -->\n<g id=\"edge3\" class=\"edge\">\n<title>2&#45;&gt;3</title>\n<path fill=\"none\" stroke=\"#000000\" d=\"M198.0199,-460.8796C192.1469,-452.1434 185.8927,-442.8404 179.8321,-433.8253\"/>\n<polygon fill=\"#000000\" stroke=\"#000000\" points=\"182.5834,-431.6444 174.0995,-425.2981 176.7741,-435.5498 182.5834,-431.6444\"/>\n</g>\n<!-- 10 -->\n<g id=\"node11\" class=\"node\">\n<title>10</title>\n<path fill=\"#8139e5\" stroke=\"#000000\" d=\"M355.5,-417.5C355.5,-417.5 256.5,-417.5 256.5,-417.5 250.5,-417.5 244.5,-411.5 244.5,-405.5 244.5,-405.5 244.5,-361.5 244.5,-361.5 244.5,-355.5 250.5,-349.5 256.5,-349.5 256.5,-349.5 355.5,-349.5 355.5,-349.5 361.5,-349.5 367.5,-355.5 367.5,-361.5 367.5,-361.5 367.5,-405.5 367.5,-405.5 367.5,-411.5 361.5,-417.5 355.5,-417.5\"/>\n<text text-anchor=\"start\" x=\"276.5\" y=\"-402.3\" font-family=\"Helvetica,sans-Serif\" font-size=\"14.00\" fill=\"#000000\">gini = 0.0</text>\n<text text-anchor=\"start\" x=\"262\" y=\"-387.3\" font-family=\"Helvetica,sans-Serif\" font-size=\"14.00\" fill=\"#000000\">samples = 29</text>\n<text text-anchor=\"start\" x=\"252.5\" y=\"-372.3\" font-family=\"Helvetica,sans-Serif\" font-size=\"14.00\" fill=\"#000000\">value = [0, 0, 29]</text>\n<text text-anchor=\"start\" x=\"254.5\" y=\"-357.3\" font-family=\"Helvetica,sans-Serif\" font-size=\"14.00\" fill=\"#000000\">class = virginica</text>\n</g>\n<!-- 2&#45;&gt;10 -->\n<g id=\"edge10\" class=\"edge\">\n<title>2&#45;&gt;10</title>\n<path fill=\"none\" stroke=\"#000000\" d=\"M253.9801,-460.8796C261.5203,-449.6636 269.6887,-437.5131 277.2691,-426.2372\"/>\n<polygon fill=\"#000000\" stroke=\"#000000\" points=\"280.2566,-428.0667 282.9311,-417.8149 274.4473,-424.1612 280.2566,-428.0667\"/>\n</g>\n<!-- 4 -->\n<g id=\"node5\" class=\"node\">\n<title>4</title>\n<path fill=\"#39e581\" stroke=\"#000000\" d=\"M116,-298.5C116,-298.5 12,-298.5 12,-298.5 6,-298.5 0,-292.5 0,-286.5 0,-286.5 0,-242.5 0,-242.5 0,-236.5 6,-230.5 12,-230.5 12,-230.5 116,-230.5 116,-230.5 122,-230.5 128,-236.5 128,-242.5 128,-242.5 128,-286.5 128,-286.5 128,-292.5 122,-298.5 116,-298.5\"/>\n<text text-anchor=\"start\" x=\"34.5\" y=\"-283.3\" font-family=\"Helvetica,sans-Serif\" font-size=\"14.00\" fill=\"#000000\">gini = 0.0</text>\n<text text-anchor=\"start\" x=\"20\" y=\"-268.3\" font-family=\"Helvetica,sans-Serif\" font-size=\"14.00\" fill=\"#000000\">samples = 29</text>\n<text text-anchor=\"start\" x=\"10.5\" y=\"-253.3\" font-family=\"Helvetica,sans-Serif\" font-size=\"14.00\" fill=\"#000000\">value = [0, 29, 0]</text>\n<text text-anchor=\"start\" x=\"8\" y=\"-238.3\" font-family=\"Helvetica,sans-Serif\" font-size=\"14.00\" fill=\"#000000\">class = versicolor</text>\n</g>\n<!-- 3&#45;&gt;4 -->\n<g id=\"edge4\" class=\"edge\">\n<title>3&#45;&gt;4</title>\n<path fill=\"none\" stroke=\"#000000\" d=\"M117.3204,-341.8796C109.5917,-330.6636 101.2191,-318.5131 93.4492,-307.2372\"/>\n<polygon fill=\"#000000\" stroke=\"#000000\" points=\"96.2018,-305.0634 87.6456,-298.8149 90.4377,-309.0353 96.2018,-305.0634\"/>\n</g>\n<!-- 5 -->\n<g id=\"node6\" class=\"node\">\n<title>5</title>\n<path fill=\"#b388ef\" stroke=\"#000000\" d=\"M297.5,-306C297.5,-306 158.5,-306 158.5,-306 152.5,-306 146.5,-300 146.5,-294 146.5,-294 146.5,-235 146.5,-235 146.5,-229 152.5,-223 158.5,-223 158.5,-223 297.5,-223 297.5,-223 303.5,-223 309.5,-229 309.5,-235 309.5,-235 309.5,-294 309.5,-294 309.5,-300 303.5,-306 297.5,-306\"/>\n<text text-anchor=\"start\" x=\"154.5\" y=\"-290.8\" font-family=\"Helvetica,sans-Serif\" font-size=\"14.00\" fill=\"#000000\">sepal length (cm) ≤ 6.5</text>\n<text text-anchor=\"start\" x=\"190\" y=\"-275.8\" font-family=\"Helvetica,sans-Serif\" font-size=\"14.00\" fill=\"#000000\">gini = 0.408</text>\n<text text-anchor=\"start\" x=\"188.5\" y=\"-260.8\" font-family=\"Helvetica,sans-Serif\" font-size=\"14.00\" fill=\"#000000\">samples = 7</text>\n<text text-anchor=\"start\" x=\"178.5\" y=\"-245.8\" font-family=\"Helvetica,sans-Serif\" font-size=\"14.00\" fill=\"#000000\">value = [0, 2, 5]</text>\n<text text-anchor=\"start\" x=\"176.5\" y=\"-230.8\" font-family=\"Helvetica,sans-Serif\" font-size=\"14.00\" fill=\"#000000\">class = virginica</text>\n</g>\n<!-- 3&#45;&gt;5 -->\n<g id=\"edge5\" class=\"edge\">\n<title>3&#45;&gt;5</title>\n<path fill=\"none\" stroke=\"#000000\" d=\"M174.6796,-341.8796C180.7615,-333.0534 187.2422,-323.6485 193.5141,-314.5466\"/>\n<polygon fill=\"#000000\" stroke=\"#000000\" points=\"196.4059,-316.5184 199.198,-306.2981 190.6418,-312.5465 196.4059,-316.5184\"/>\n</g>\n<!-- 6 -->\n<g id=\"node7\" class=\"node\">\n<title>6</title>\n<path fill=\"#9a61ea\" stroke=\"#000000\" d=\"M213.5,-187C213.5,-187 80.5,-187 80.5,-187 74.5,-187 68.5,-181 68.5,-175 68.5,-175 68.5,-116 68.5,-116 68.5,-110 74.5,-104 80.5,-104 80.5,-104 213.5,-104 213.5,-104 219.5,-104 225.5,-110 225.5,-116 225.5,-116 225.5,-175 225.5,-175 225.5,-181 219.5,-187 213.5,-187\"/>\n<text text-anchor=\"start\" x=\"76.5\" y=\"-171.8\" font-family=\"Helvetica,sans-Serif\" font-size=\"14.00\" fill=\"#000000\">sepal width (cm) ≤ 3.1</text>\n<text text-anchor=\"start\" x=\"109\" y=\"-156.8\" font-family=\"Helvetica,sans-Serif\" font-size=\"14.00\" fill=\"#000000\">gini = 0.278</text>\n<text text-anchor=\"start\" x=\"107.5\" y=\"-141.8\" font-family=\"Helvetica,sans-Serif\" font-size=\"14.00\" fill=\"#000000\">samples = 6</text>\n<text text-anchor=\"start\" x=\"97.5\" y=\"-126.8\" font-family=\"Helvetica,sans-Serif\" font-size=\"14.00\" fill=\"#000000\">value = [0, 1, 5]</text>\n<text text-anchor=\"start\" x=\"95.5\" y=\"-111.8\" font-family=\"Helvetica,sans-Serif\" font-size=\"14.00\" fill=\"#000000\">class = virginica</text>\n</g>\n<!-- 5&#45;&gt;6 -->\n<g id=\"edge6\" class=\"edge\">\n<title>5&#45;&gt;6</title>\n<path fill=\"none\" stroke=\"#000000\" d=\"M199.6701,-222.8796C193.7237,-214.1434 187.3914,-204.8404 181.255,-195.8253\"/>\n<polygon fill=\"#000000\" stroke=\"#000000\" points=\"183.9711,-193.5953 175.4508,-187.2981 178.1844,-197.5342 183.9711,-193.5953\"/>\n</g>\n<!-- 9 -->\n<g id=\"node10\" class=\"node\">\n<title>9</title>\n<path fill=\"#39e581\" stroke=\"#000000\" d=\"M360,-179.5C360,-179.5 256,-179.5 256,-179.5 250,-179.5 244,-173.5 244,-167.5 244,-167.5 244,-123.5 244,-123.5 244,-117.5 250,-111.5 256,-111.5 256,-111.5 360,-111.5 360,-111.5 366,-111.5 372,-117.5 372,-123.5 372,-123.5 372,-167.5 372,-167.5 372,-173.5 366,-179.5 360,-179.5\"/>\n<text text-anchor=\"start\" x=\"278.5\" y=\"-164.3\" font-family=\"Helvetica,sans-Serif\" font-size=\"14.00\" fill=\"#000000\">gini = 0.0</text>\n<text text-anchor=\"start\" x=\"268.5\" y=\"-149.3\" font-family=\"Helvetica,sans-Serif\" font-size=\"14.00\" fill=\"#000000\">samples = 1</text>\n<text text-anchor=\"start\" x=\"258.5\" y=\"-134.3\" font-family=\"Helvetica,sans-Serif\" font-size=\"14.00\" fill=\"#000000\">value = [0, 1, 0]</text>\n<text text-anchor=\"start\" x=\"252\" y=\"-119.3\" font-family=\"Helvetica,sans-Serif\" font-size=\"14.00\" fill=\"#000000\">class = versicolor</text>\n</g>\n<!-- 5&#45;&gt;9 -->\n<g id=\"edge9\" class=\"edge\">\n<title>5&#45;&gt;9</title>\n<path fill=\"none\" stroke=\"#000000\" d=\"M255.9801,-222.8796C263.5203,-211.6636 271.6887,-199.5131 279.2691,-188.2372\"/>\n<polygon fill=\"#000000\" stroke=\"#000000\" points=\"282.2566,-190.0667 284.9311,-179.8149 276.4473,-186.1612 282.2566,-190.0667\"/>\n</g>\n<!-- 7 -->\n<g id=\"node8\" class=\"node\">\n<title>7</title>\n<path fill=\"#8139e5\" stroke=\"#000000\" d=\"M123.5,-68C123.5,-68 28.5,-68 28.5,-68 22.5,-68 16.5,-62 16.5,-56 16.5,-56 16.5,-12 16.5,-12 16.5,-6 22.5,0 28.5,0 28.5,0 123.5,0 123.5,0 129.5,0 135.5,-6 135.5,-12 135.5,-12 135.5,-56 135.5,-56 135.5,-62 129.5,-68 123.5,-68\"/>\n<text text-anchor=\"start\" x=\"46.5\" y=\"-52.8\" font-family=\"Helvetica,sans-Serif\" font-size=\"14.00\" fill=\"#000000\">gini = 0.0</text>\n<text text-anchor=\"start\" x=\"36.5\" y=\"-37.8\" font-family=\"Helvetica,sans-Serif\" font-size=\"14.00\" fill=\"#000000\">samples = 5</text>\n<text text-anchor=\"start\" x=\"26.5\" y=\"-22.8\" font-family=\"Helvetica,sans-Serif\" font-size=\"14.00\" fill=\"#000000\">value = [0, 0, 5]</text>\n<text text-anchor=\"start\" x=\"24.5\" y=\"-7.8\" font-family=\"Helvetica,sans-Serif\" font-size=\"14.00\" fill=\"#000000\">class = virginica</text>\n</g>\n<!-- 6&#45;&gt;7 -->\n<g id=\"edge7\" class=\"edge\">\n<title>6&#45;&gt;7</title>\n<path fill=\"none\" stroke=\"#000000\" d=\"M120.5622,-103.9815C114.944,-95.1585 109.0012,-85.8258 103.3497,-76.9506\"/>\n<polygon fill=\"#000000\" stroke=\"#000000\" points=\"106.1416,-74.8188 97.8181,-68.2637 100.2371,-78.5787 106.1416,-74.8188\"/>\n</g>\n<!-- 8 -->\n<g id=\"node9\" class=\"node\">\n<title>8</title>\n<path fill=\"#39e581\" stroke=\"#000000\" d=\"M270,-68C270,-68 166,-68 166,-68 160,-68 154,-62 154,-56 154,-56 154,-12 154,-12 154,-6 160,0 166,0 166,0 270,0 270,0 276,0 282,-6 282,-12 282,-12 282,-56 282,-56 282,-62 276,-68 270,-68\"/>\n<text text-anchor=\"start\" x=\"188.5\" y=\"-52.8\" font-family=\"Helvetica,sans-Serif\" font-size=\"14.00\" fill=\"#000000\">gini = 0.0</text>\n<text text-anchor=\"start\" x=\"178.5\" y=\"-37.8\" font-family=\"Helvetica,sans-Serif\" font-size=\"14.00\" fill=\"#000000\">samples = 1</text>\n<text text-anchor=\"start\" x=\"168.5\" y=\"-22.8\" font-family=\"Helvetica,sans-Serif\" font-size=\"14.00\" fill=\"#000000\">value = [0, 1, 0]</text>\n<text text-anchor=\"start\" x=\"162\" y=\"-7.8\" font-family=\"Helvetica,sans-Serif\" font-size=\"14.00\" fill=\"#000000\">class = versicolor</text>\n</g>\n<!-- 6&#45;&gt;8 -->\n<g id=\"edge8\" class=\"edge\">\n<title>6&#45;&gt;8</title>\n<path fill=\"none\" stroke=\"#000000\" d=\"M173.4378,-103.9815C179.056,-95.1585 184.9988,-85.8258 190.6503,-76.9506\"/>\n<polygon fill=\"#000000\" stroke=\"#000000\" points=\"193.7629,-78.5787 196.1819,-68.2637 187.8584,-74.8188 193.7629,-78.5787\"/>\n</g>\n</g>\n</svg>\n"
          },
          "metadata": {
            "tags": []
          },
          "execution_count": 50
        }
      ]
    }
  ]
}