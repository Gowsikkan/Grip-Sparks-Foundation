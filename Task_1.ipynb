{
  "nbformat": 4,
  "nbformat_minor": 0,
  "metadata": {
    "colab": {
      "name": "Task-1.ipynb",
      "provenance": []
    },
    "kernelspec": {
      "name": "python3",
      "display_name": "Python 3"
    }
  },
  "cells": [
    {
      "cell_type": "markdown",
      "metadata": {
        "id": "2ZAGaHoJdYBD"
      },
      "source": [
        "**Task**-**1**"
      ]
    },
    {
      "cell_type": "markdown",
      "metadata": {
        "id": "70iq0BAvdg5V"
      },
      "source": [
        "**Simple** **Linear** **Regression**"
      ]
    },
    {
      "cell_type": "markdown",
      "metadata": {
        "id": "ZGDQRnnfbfF-"
      },
      "source": [
        "**Author**-**Gowsikkan**"
      ]
    },
    {
      "cell_type": "markdown",
      "metadata": {
        "id": "H7xlX1rybqte"
      },
      "source": [
        " **Grip**@**TheSparksFoundation**"
      ]
    },
    {
      "cell_type": "markdown",
      "metadata": {
        "id": "W2rdPtiR2Zkg"
      },
      "source": [
        "**Importing** **Libraries**"
      ]
    },
    {
      "cell_type": "code",
      "metadata": {
        "id": "8YjBQJL_W5A_"
      },
      "source": [
        "import pandas as pd\r\n",
        "import numpy as np\r\n",
        "import matplotlib.pyplot as plt \r\n",
        "from sklearn.model_selection import train_test_split\r\n",
        "from sklearn.linear_model import LinearRegression\r\n",
        "%matplotlib inline"
      ],
      "execution_count": null,
      "outputs": []
    },
    {
      "cell_type": "markdown",
      "metadata": {
        "id": "FxSTIFd11iwj"
      },
      "source": [
        "**Dataframe**"
      ]
    },
    {
      "cell_type": "code",
      "metadata": {
        "colab": {
          "base_uri": "https://localhost:8080/",
          "height": 204
        },
        "id": "GhYEWOZbXHxv",
        "outputId": "e5442cf9-ea65-40d9-d0a2-555aa160d81b"
      },
      "source": [
        "df = pd.read_csv(\"https://raw.githubusercontent.com/AdiPersonalWorks/Random/master/student_scores%20-%20student_scores.csv\")\r\n",
        "df.head()"
      ],
      "execution_count": null,
      "outputs": [
        {
          "output_type": "execute_result",
          "data": {
            "text/html": [
              "<div>\n",
              "<style scoped>\n",
              "    .dataframe tbody tr th:only-of-type {\n",
              "        vertical-align: middle;\n",
              "    }\n",
              "\n",
              "    .dataframe tbody tr th {\n",
              "        vertical-align: top;\n",
              "    }\n",
              "\n",
              "    .dataframe thead th {\n",
              "        text-align: right;\n",
              "    }\n",
              "</style>\n",
              "<table border=\"1\" class=\"dataframe\">\n",
              "  <thead>\n",
              "    <tr style=\"text-align: right;\">\n",
              "      <th></th>\n",
              "      <th>Hours</th>\n",
              "      <th>Scores</th>\n",
              "    </tr>\n",
              "  </thead>\n",
              "  <tbody>\n",
              "    <tr>\n",
              "      <th>0</th>\n",
              "      <td>2.5</td>\n",
              "      <td>21</td>\n",
              "    </tr>\n",
              "    <tr>\n",
              "      <th>1</th>\n",
              "      <td>5.1</td>\n",
              "      <td>47</td>\n",
              "    </tr>\n",
              "    <tr>\n",
              "      <th>2</th>\n",
              "      <td>3.2</td>\n",
              "      <td>27</td>\n",
              "    </tr>\n",
              "    <tr>\n",
              "      <th>3</th>\n",
              "      <td>8.5</td>\n",
              "      <td>75</td>\n",
              "    </tr>\n",
              "    <tr>\n",
              "      <th>4</th>\n",
              "      <td>3.5</td>\n",
              "      <td>30</td>\n",
              "    </tr>\n",
              "  </tbody>\n",
              "</table>\n",
              "</div>"
            ],
            "text/plain": [
              "   Hours  Scores\n",
              "0    2.5      21\n",
              "1    5.1      47\n",
              "2    3.2      27\n",
              "3    8.5      75\n",
              "4    3.5      30"
            ]
          },
          "metadata": {
            "tags": []
          },
          "execution_count": 13
        }
      ]
    },
    {
      "cell_type": "markdown",
      "metadata": {
        "id": "CtquE3i91sZy"
      },
      "source": [
        "**Scatter** **Plot**"
      ]
    },
    {
      "cell_type": "code",
      "metadata": {
        "colab": {
          "base_uri": "https://localhost:8080/",
          "height": 312
        },
        "id": "Vnyz4OtKXbkS",
        "outputId": "0b89bb72-547c-4450-95de-9abf09849b46"
      },
      "source": [
        "plt.plot(df.Hours,df.Scores,'r*')\r\n",
        "plt.xlabel('Hours')\r\n",
        "plt.ylabel('Scores')\r\n",
        "plt.title('Student score')"
      ],
      "execution_count": null,
      "outputs": [
        {
          "output_type": "execute_result",
          "data": {
            "text/plain": [
              "Text(0.5, 1.0, 'Student score')"
            ]
          },
          "metadata": {
            "tags": []
          },
          "execution_count": 32
        },
        {
          "output_type": "display_data",
          "data": {
            "image/png": "[encoded data removed]",
            "text/plain": [
              "<Figure size 432x288 with 1 Axes>"
            ]
          },
          "metadata": {
            "tags": [],
            "needs_background": "light"
          }
        }
      ]
    },
    {
      "cell_type": "markdown",
      "metadata": {
        "id": "ZMieMcEM3CvE"
      },
      "source": [
        "**Data** **preparation**"
      ]
    },
    {
      "cell_type": "code",
      "metadata": {
        "id": "m-WF6sGcb9cG"
      },
      "source": [
        "x= df[['Hours']]\r\n",
        "y =df['Scores']"
      ],
      "execution_count": null,
      "outputs": []
    },
    {
      "cell_type": "markdown",
      "metadata": {
        "id": "jYk7BX8y1u9E"
      },
      "source": [
        "**Train** **test** **split**"
      ]
    },
    {
      "cell_type": "code",
      "metadata": {
        "id": "RVL5BwTPb9eq"
      },
      "source": [
        "X_train, X_test, Y_train, Y_test = train_test_split(x,y,test_size=0.3)"
      ],
      "execution_count": null,
      "outputs": []
    },
    {
      "cell_type": "markdown",
      "metadata": {
        "id": "GZRYDWwz1zSA"
      },
      "source": [
        "**Importing** **model**"
      ]
    },
    {
      "cell_type": "code",
      "metadata": {
        "colab": {
          "base_uri": "https://localhost:8080/"
        },
        "id": "ZFo_3j7Zb9gs",
        "outputId": "b330f5e9-294e-4afc-883f-6c56ea5d882b"
      },
      "source": [
        "model = LinearRegression()\r\n",
        "model.fit(X_train,Y_train)"
      ],
      "execution_count": null,
      "outputs": [
        {
          "output_type": "execute_result",
          "data": {
            "text/plain": [
              "LinearRegression(copy_X=True, fit_intercept=True, n_jobs=None, normalize=False)"
            ]
          },
          "metadata": {
            "tags": []
          },
          "execution_count": 17
        }
      ]
    },
    {
      "cell_type": "code",
      "metadata": {
        "id": "EkxT13xphuGy"
      },
      "source": [
        "y_pred=model.predict(x)"
      ],
      "execution_count": null,
      "outputs": []
    },
    {
      "cell_type": "markdown",
      "metadata": {
        "id": "jM6FfHUi2H65"
      },
      "source": [
        "**Model** **Score**"
      ]
    },
    {
      "cell_type": "code",
      "metadata": {
        "colab": {
          "base_uri": "https://localhost:8080/"
        },
        "id": "kPCu2vqNb9jd",
        "outputId": "08c9d8a6-9f5b-4aa5-83ae-abafd2b43960"
      },
      "source": [
        "model.score(X_test,Y_test)"
      ],
      "execution_count": null,
      "outputs": [
        {
          "output_type": "execute_result",
          "data": {
            "text/plain": [
              "0.974374841525582"
            ]
          },
          "metadata": {
            "tags": []
          },
          "execution_count": 19
        }
      ]
    },
    {
      "cell_type": "markdown",
      "metadata": {
        "id": "R2-7SqES2MbR"
      },
      "source": [
        "**Linear** **Line**"
      ]
    },
    {
      "cell_type": "code",
      "metadata": {
        "colab": {
          "base_uri": "https://localhost:8080/",
          "height": 312
        },
        "id": "9E6-aKqxiHw1",
        "outputId": "26c3e259-d166-44dd-91be-3256fc3a948d"
      },
      "source": [
        "plt.xlabel('Hours')\r\n",
        "plt.ylabel('Scores')\r\n",
        "plt.title('Student score')\r\n",
        "plt.scatter(x,y,color='b',marker='*')\r\n",
        "plt.plot(x,y_pred,color='r')"
      ],
      "execution_count": null,
      "outputs": [
        {
          "output_type": "execute_result",
          "data": {
            "text/plain": [
              "[<matplotlib.lines.Line2D at 0x7fe351f6ff28>]"
            ]
          },
          "metadata": {
            "tags": []
          },
          "execution_count": 30
        },
        {
          "output_type": "display_data",
          "data": {
            "image/png": "[encoded data removed]",
            "text/plain": [
              "<Figure size 432x288 with 1 Axes>"
            ]
          },
          "metadata": {
            "tags": [],
            "needs_background": "light"
          }
        }
      ]
    },
    {
      "cell_type": "markdown",
      "metadata": {
        "id": "uBb7NA012QAQ"
      },
      "source": [
        "**Prediction**"
      ]
    },
    {
      "cell_type": "code",
      "metadata": {
        "colab": {
          "base_uri": "https://localhost:8080/"
        },
        "id": "eLGtY8_ZiHzw",
        "outputId": "a552c3f3-4ec1-40fc-a6df-71de625706f3"
      },
      "source": [
        "c= model.predict([[9.5]])\r\n",
        "print(\"No of Hours = {}\".format(9.5))\r\n",
        "print(\"Predicted Score = {}\".format(c[0]))"
      ],
      "execution_count": null,
      "outputs": [
        {
          "output_type": "stream",
          "text": [
            "No of Hours = 9.5\n",
            "Predicted Score = 94.7757619090178\n"
          ],
          "name": "stdout"
        }
      ]
    }
  ]
}